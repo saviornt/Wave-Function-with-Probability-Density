import numpy as np
import plotly.express as px
import plotly.graph_objects as go
import ipywidgets as widgets
from IPython.display import display

# Define the wavefunction
def wavefunction(x, k, t):
    psi_1 = np.exp(1j * (k * x - t))
    psi_2 = np.exp(-1j * (k * x + t))
    return psi_1 + psi_2

# Define the x-axis range
x = np.linspace(-10, 10, 500)

# Create initial data
k_initial = 1
t_initial = 0
y_initial = wavefunction(x, k_initial, t_initial)

# Create figure and traces
fig = go.FigureWidget()
wavefunc_trace = go.Scatter(x=x, y=np.real(y_initial), mode='lines', name='Wavefunction')
prob_density_trace = go.Scatter(x=x, y=np.abs(y_initial)**2, mode='lines', name='Probability Density')
fig.add_traces([wavefunc_trace, prob_density_trace])

# Define the update function
def update_wavefunction(change):
    k = k_slider.value
    t = t_slider.value
    y = wavefunction(x, k, t)

    fig.data[0].y = np.real(y)
    fig.data[1].y = np.abs(y)**2
    fig.update_layout(title_text=f"Wavefunction Evolution (k={k}, t={t})")

# Create sliders
k_slider = widgets.FloatSlider(min=0, max=10, step=0.1, value=k_initial, description='Wave number (k)')
t_slider = widgets.FloatSlider(min=0, max=10, step=0.1, value=t_initial, description='Time (t)')
k_slider.observe(update_wavefunction, 'value')
t_slider.observe(update_wavefunction, 'value')

# Create layout and display
controls = widgets.VBox([k_slider, t_slider])
display(widgets.HBox([fig, controls]))
